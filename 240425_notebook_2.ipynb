{
  "cells": [
    {
      "cell_type": "markdown",
      "metadata": {
        "id": "view-in-github",
        "colab_type": "text"
      },
      "source": [
        "<a href=\"https://colab.research.google.com/github/ohki-yu0225/toukei_1B_2/blob/main/240425_notebook_2.ipynb\" target=\"_parent\"><img src=\"https://colab.research.google.com/assets/colab-badge.svg\" alt=\"Open In Colab\"/></a>"
      ]
    },
    {
      "cell_type": "markdown",
      "id": "48d1d286-3a8a-46ed-ac5f-d1b13dc30b52",
      "metadata": {
        "id": "48d1d286-3a8a-46ed-ac5f-d1b13dc30b52"
      },
      "source": [
        "# 統計学実習IB 第2回\n",
        "担当：大木 有<br>\n",
        "日時：2024年4月25日（金）\n",
        "\n",
        "## 練習内容 (Contents)\n",
        "- 母集団と標本 (Population and Sample)"
      ]
    },
    {
      "cell_type": "markdown",
      "id": "3f6e76da-0244-4b90-8263-23c14500f496",
      "metadata": {
        "id": "3f6e76da-0244-4b90-8263-23c14500f496"
      },
      "source": [
        "## 授業で使用するライブラリのインポート (Importing libraries used in this class)\n",
        "授業で使用する主なライブラリはPandas、Numpy、Matplotlib、japanize-matplotlibである。`pandas`は`pd`、`numpy`は`np`、`matplotlib`は`plt`という略称でインポートすることが多い。`japanize_matplotlib`はそのままインポートする。<br>\n",
        "The main libraries used in this class are Pandas, Numpy, Matplotlib, and japanize-matplotlib. It's common to import `pandas` as `pd`, `numpy` as `np`, and `matplotlib` as `plt`. `japanize_matplotlib` is imported as is.\n"
      ]
    },
    {
      "cell_type": "code",
      "execution_count": null,
      "id": "9f2fffca-8fb8-4b31-8e70-fb1f4e57c8a3",
      "metadata": {
        "id": "9f2fffca-8fb8-4b31-8e70-fb1f4e57c8a3"
      },
      "outputs": [],
      "source": [
        "!pip install japanize-matplotlib\n",
        "import pandas as pd\n",
        "import numpy as np\n",
        "import matplotlib.pyplot as plt\n",
        "import japanize_matplotlib"
      ]
    },
    {
      "cell_type": "markdown",
      "id": "4b13eb22-f2d7-46ff-9793-0e7e57568fce",
      "metadata": {
        "id": "4b13eb22-f2d7-46ff-9793-0e7e57568fce"
      },
      "source": [
        "## データの読み込み (Reading data)\n",
        "Pythonを使ってデータを分析するためには、データを読み込む必要があります。データは多くの場合「csv」という形式のファイルで作成されているので、`pandas`の`read_csv`という関数を使って、データを読み込む。日本語が含まれているファイルを読み込む場合は、`encoding='shift-jis'`を加える。`read_csv`で読み込まれたデータは`DataFrame`という形式の変数となる<br>\n",
        "To analyze data using Python, you need to read the data first. Data is often created in the form of files with the \"csv\" format. You can use the `read_csv` function from `pandas` to read the data. If the file contains Japanese characters, you should add `encoding='shift-jis'`. The data read with read_csv becomes a variable in the form of `DataFrame`.\n",
        "\n",
        "---\n",
        "```Python\n",
        "pd.read_csv('ファイル名 (name of a file).csv', encoding='shift-jis')\n",
        "```\n",
        "---"
      ]
    },
    {
      "cell_type": "markdown",
      "id": "21b1969e-4a5c-4a71-9aba-ecee323ee298",
      "metadata": {
        "id": "21b1969e-4a5c-4a71-9aba-ecee323ee298"
      },
      "source": [
        "## 母集団と標本 (Population and Sample)\n",
        "母集団：統計調査の対象となるデータ全体の集合 <br>\n",
        "標本：実際に調査対象となる母集団の一部（部分集合データ） <br>\n",
        "標本抽出：母集団から標本を取り出すこと <br>\n",
        "\n",
        "今回の実習では、サンプルデータを母集団として、いくつかの条件で標本を抽出する練習をする。実際は、標本抽出されたデータがデータ分析の対象となるので、母集団のデータから標本を抽出するということはなく、母集団のデータがない状態となる適切な標本抽出の方法を検討する必要がある。<br>\n",
        "Population: the entire set of data that is the subject of the statistical survey. <br>\n",
        "Sample: the portion of the population that is actually being surveyed. <br>\n",
        "Sampling: Extracting a sample from a population. <br>\n",
        "\n",
        "In this exercise, we will practice extracting samples based on several conditions, using sample data as the population. In reality, since the sampled data is the subject of data analysis, there is no need to extract samples from the population data. Instead, it is necessary to consider appropriate sampling methods when there is no population data available."
      ]
    },
    {
      "cell_type": "markdown",
      "id": "27ee877b-6236-4b98-babe-4e8fba7a1e02",
      "metadata": {
        "id": "27ee877b-6236-4b98-babe-4e8fba7a1e02"
      },
      "source": [
        "### 母集団から標本を抽出する (Extracting a sample from the population)\n",
        "ある学校には普通科、理数科、国際科の3つのコースがあり、それぞれ20人ずつが所属している。このクラスの国語、数学、英語のテストの点数、身長、所属している科、性別、血液型を記録したデータを'sample.csv'という名前のファイルに記録している。このデータを母集団として、標本を抽出のプロセスを練習する。<br>\n",
        "In a certain school, there are three courses: General course, Science and Mathematics course, and International　course, each with 20 students. Data on test scores in Japanese, Mathematics, and English, height, course enrollment, gender, and blood type are recorded in a file named 'sample.csv'. We'll use this data as the population and practice the process of sampling.<br>\n",
        "\n",
        "（Japanese-English translation list）<br>\n",
        "国語：Japanese <br>\n",
        "数学：Mathematics <br>\n",
        "英語：English <br>\n",
        "身長：Height<br>\n",
        "クラス：Course enrollment <br>\n",
        "性別：Sex at birth <br>\n",
        "血液型：Blood type <br>\n",
        "普通：General course <br>\n",
        "理数：Science and Mathematics course <br>\n",
        "国際：International　course <br>\n",
        "男性：Male <br>\n",
        "女性：Female"
      ]
    },
    {
      "cell_type": "code",
      "execution_count": null,
      "id": "580f5480-f897-4cb1-b184-92eec5adbabe",
      "metadata": {
        "id": "580f5480-f897-4cb1-b184-92eec5adbabe"
      },
      "outputs": [],
      "source": [
        "# データの読み込み (Reading data)\n",
        "df = pd.read_csv('sample_2.csv', encoding=\"shift-jis\") #'sample_2.csv'を読み込み (Reading 'sample_2.csv')\n",
        "df.head(5)"
      ]
    },
    {
      "cell_type": "markdown",
      "id": "62c4406d-84d6-4207-9174-a8641a85949b",
      "metadata": {
        "id": "62c4406d-84d6-4207-9174-a8641a85949b"
      },
      "source": [
        "クラスの情報を用いて、普通科、理数科、国際科のそれぞれのクラスに所属している学生を標本として抽出する。`DataFrame`で条件を指定してデータを抽出する方法は次の通りである。\n",
        "\n",
        "---\n",
        "```Python\n",
        "df[df['条件を指定したい列の名前 (Name of the column for which you want to specify a condition)'] == '条件 (Condition)']\n",
        "```\n",
        "---"
      ]
    },
    {
      "cell_type": "code",
      "execution_count": null,
      "id": "86737a00-5ca9-4146-82c7-a2059095848f",
      "metadata": {
        "id": "86737a00-5ca9-4146-82c7-a2059095848f"
      },
      "outputs": [],
      "source": [
        "# 標本抽出 1 (Extracting a sample 1)\n",
        "# 普通科の学生を標本として抽出し、変数'df_n'に入れる\n",
        "# Extract a sample of students from the general course ('普通') and assign it to the variable 'df_n'.\n",
        "df_n = df[df['クラス'] == '普通'] #'クラス'の列が'普通'のデータを抽出\n",
        "df_n.head(5)"
      ]
    },
    {
      "cell_type": "code",
      "execution_count": null,
      "id": "a7202686-1bea-470f-a52b-eca70be3e231",
      "metadata": {
        "id": "a7202686-1bea-470f-a52b-eca70be3e231"
      },
      "outputs": [],
      "source": [
        "# 標本抽出 2 (Extracting a sample 2)\n",
        "# 練習 1 理数科の学生を標本として抽出し、変数'df_s'に入れてください。最初の5行のデータを表示してください。\n",
        "# Exercise 5: Extract a sample of students from the Science and Mathematics course ('理数') and assign it to the variable 'df_s'. Then, display the first 5 rows.\n"
      ]
    },
    {
      "cell_type": "code",
      "execution_count": null,
      "id": "0f037c74-2196-458c-b800-4b3d75325338",
      "metadata": {
        "id": "0f037c74-2196-458c-b800-4b3d75325338"
      },
      "outputs": [],
      "source": [
        "# 標本抽出 3 (Extracting a sample 3)\n",
        "# 練習 2 国際科の学生を標本として抽出し、変数'df_s'に入れてください。最初の5行のデータを表示してください。\n",
        "# Exercise 6: Extract a sample of students from the International course ('国際') and assign it to the variable 'df_i'. Then, display the first 5 rows.\n"
      ]
    },
    {
      "cell_type": "markdown",
      "id": "cbc573d7-038f-4226-8d07-7e2d93501bfb",
      "metadata": {
        "id": "cbc573d7-038f-4226-8d07-7e2d93501bfb"
      },
      "source": [
        "### 抽出した標本の統計量を見る (Confirming the statistics of the extracted sample)\n",
        "量的データであれば、抽出した標本の特性を調べるために統計量を計算する。統計量の意味については、後日統計学講義で学習するので、今回はデータの平均な値を意味する平均値(mean)に着目する。`DataFrame`の要約統計量を確認するためには、`describe()`を使う。\n",
        "To examine the characteristics of the extracted sample, particularly for quantitative data, we calculate statistics to understand its properties. We'll focus on the mean value, which represents the average value of the data. To check the summary statistics of the DataFrame, we use `describe()`.\n",
        "\n",
        "---\n",
        "```Python\n",
        "df.describe()\n",
        "```\n",
        "---"
      ]
    },
    {
      "cell_type": "code",
      "execution_count": null,
      "id": "2961210e-0e7c-43ac-8c89-03a73281fe77",
      "metadata": {
        "id": "2961210e-0e7c-43ac-8c89-03a73281fe77"
      },
      "outputs": [],
      "source": [
        "# 統計量の確認 1 (Confirming the statistics 1)\n",
        "# 普通科の学生の統計量を確認する\n",
        "# Confirming the statistics for students in the General course.\n",
        "df_n.describe()"
      ]
    },
    {
      "cell_type": "code",
      "execution_count": null,
      "id": "d20c218f-3b46-4b44-9931-db05b7de24c2",
      "metadata": {
        "id": "d20c218f-3b46-4b44-9931-db05b7de24c2"
      },
      "outputs": [],
      "source": [
        "# 統計量の確認 2 (Confirming the statistics 2)\n",
        "# 練習 3 理数科の学生の統計量を確認してください。\n",
        "# Exercise 7: Confirm statistics for students in the Science and Mathematics course.\n"
      ]
    },
    {
      "cell_type": "code",
      "execution_count": null,
      "id": "ab8065ab-e2b2-419f-a710-780840c90e47",
      "metadata": {
        "id": "ab8065ab-e2b2-419f-a710-780840c90e47"
      },
      "outputs": [],
      "source": [
        "# 統計量の確認 3 (Confirming the statistics 3)\n",
        "# 練習 4 国際科の学生の統計量を確認してください。\n",
        "# Exercise 8: Confirm statistics for students in the International course.\n"
      ]
    },
    {
      "cell_type": "code",
      "execution_count": null,
      "id": "0eec3add-73fc-42be-8a64-d4a396030470",
      "metadata": {
        "id": "0eec3add-73fc-42be-8a64-d4a396030470"
      },
      "outputs": [],
      "source": [
        "# 統計量の確認 4 (Confirming the statistics 4)\n",
        "# 練習 5 普通科、理数科、国際科のそれぞれの学生を標本として抽出した場合の国語、数学、英語の平均値の違いについて、気づいたことを次の行の'#'のあとに記述してください。\n",
        "# Exercise 9: Write your observations on the differences in the average scores of Japanese, Mathematics, and English among students sampled from the General, Science and Mathematics, and International courses on the line following '#'.\n",
        "#"
      ]
    },
    {
      "cell_type": "markdown",
      "id": "c5ef8b36-fb6e-4b26-befb-279f62d14f8e",
      "metadata": {
        "id": "c5ef8b36-fb6e-4b26-befb-279f62d14f8e"
      },
      "source": [
        "### 抽出した標本の数をカテゴリー別に集計する (Aggregating the number of samples by category)\n",
        "質的データの場合は、統計量が計算できない。そのため、標本の特性を調べる方法の1つとして、カテゴリー別に該当するデータの数を集計する。数の集計は次の通りに行える。<br>\n",
        "For qualitative data, statistics cannot be computed. Therefore, one way to examine the characteristics of the sample is to aggregate the number of data points by category. Here's how to aggregate the numbers:\n",
        "\n",
        "---\n",
        "```Python\n",
        "sum(df['カテゴリー別に集計したい列の名前(Name of the column to be aggregated by category)'] == '条件 (Condition)')\n",
        "```\n",
        "---"
      ]
    },
    {
      "cell_type": "code",
      "execution_count": null,
      "id": "d1834f26-a428-4c95-add0-e09eef6ecae0",
      "metadata": {
        "id": "d1834f26-a428-4c95-add0-e09eef6ecae0"
      },
      "outputs": [],
      "source": [
        "# カテゴリー別の集計 1 (Aggregation by category 1)\n",
        "# 普通科の学生の数を血液型別に集計する。\n",
        "# Aggregating the number of students in the General course by blood type.\n",
        "n_a = sum(df_n['血液型'] == 'A')\n",
        "n_b = sum(df_n['血液型'] == 'B')\n",
        "n_ab = sum(df_n['血液型'] == 'AB')\n",
        "n_o = sum(df_n['血液型'] == 'O')\n",
        "\n",
        "print(f'A型の数: {n_a} 人')\n",
        "print(f'B型の数: {n_b} 人')\n",
        "print(f'AB型の数: {n_ab} 人')\n",
        "print(f'O型の数: {n_o} 人')"
      ]
    },
    {
      "cell_type": "code",
      "execution_count": null,
      "id": "1766b9ea-33a9-4a17-8f64-50f32d724fb1",
      "metadata": {
        "id": "1766b9ea-33a9-4a17-8f64-50f32d724fb1"
      },
      "outputs": [],
      "source": [
        "# カテゴリー別の集計 2 (Aggregation by category 2)\n",
        "# 練習 6 理数科の学生の数を血液型別に集計してください。\n",
        "# Exercise 10: Aggregating the number of students in the the Science and Mathematics course by blood type.\n",
        "\n",
        "print(f'A型の数: {...} 人')\n",
        "print(f'B型の数: {...} 人')\n",
        "print(f'AB型の数: {...} 人')\n",
        "print(f'O型の数: {...} 人')"
      ]
    },
    {
      "cell_type": "code",
      "execution_count": null,
      "id": "3a9d6028-8ac7-49ea-8d4c-7da84b564745",
      "metadata": {
        "id": "3a9d6028-8ac7-49ea-8d4c-7da84b564745"
      },
      "outputs": [],
      "source": [
        "# カテゴリー別の集計 3 (Aggregation by category 3)\n",
        "# 練習 7 国際科の学生の数を血液型別に集計してください。\n",
        "# Exercise 11: Aggregating the number of students in the the International course by blood type.\n",
        "\n",
        "print(f'A型の数: {...} 人')\n",
        "print(f'B型の数: {...} 人')\n",
        "print(f'AB型の数: {...} 人')\n",
        "print(f'O型の数: {...} 人')"
      ]
    },
    {
      "cell_type": "markdown",
      "id": "2bd70359-9721-40d9-abfc-347860c6f1b9",
      "metadata": {
        "id": "2bd70359-9721-40d9-abfc-347860c6f1b9"
      },
      "source": [
        "## 練習課題 (Practice)"
      ]
    },
    {
      "cell_type": "code",
      "execution_count": null,
      "id": "91687b1a-ec2a-4cd9-851a-3779a816fe53",
      "metadata": {
        "id": "91687b1a-ec2a-4cd9-851a-3779a816fe53"
      },
      "outputs": [],
      "source": [
        "# 標本抽出 （課題） 1 (Extracting a sample [practice] 1)\n",
        "# 練習 8 男性の学生を標本として抽出し、変数'df_m'に入れてください。最初の10行のデータを表示してください。\n",
        "# Exercise 12: Extract a sample of male students and assign it to the variable 'df_m'.\n"
      ]
    },
    {
      "cell_type": "code",
      "execution_count": null,
      "id": "e685fa98-a402-44f5-b2f0-4dc35e035521",
      "metadata": {
        "id": "e685fa98-a402-44f5-b2f0-4dc35e035521"
      },
      "outputs": [],
      "source": [
        "# 標本抽出 （課題） 2 (Extracting a sample [practice] 2)\n",
        "# 練習 9 女性の学生を標本として抽出し、変数'df_f'に入れてください。最初の10行のデータを表示してください。\n",
        "# Exercise 13: Extract a sample of female students and assign it to the variable 'df_f'.\n"
      ]
    },
    {
      "cell_type": "code",
      "execution_count": null,
      "id": "671ceb56-c0b1-40bc-8952-ea64705d1876",
      "metadata": {
        "id": "671ceb56-c0b1-40bc-8952-ea64705d1876"
      },
      "outputs": [],
      "source": [
        "# 統計量の確認 （課題） 1 (Confirming the statistics [practice] 1)\n",
        "# 練習 10 男性の学生の統計量を確認してください。\n",
        "# Exercise 14: Confirm statistics for male students.\n"
      ]
    },
    {
      "cell_type": "code",
      "execution_count": null,
      "id": "4c8c3b5a-06f4-4866-af74-8f9cb3ae2710",
      "metadata": {
        "id": "4c8c3b5a-06f4-4866-af74-8f9cb3ae2710"
      },
      "outputs": [],
      "source": [
        "# 統計量の確認 （課題） 2 (Confirming the statistics [practice] 2)\n",
        "# 練習 11 女性の学生の統計量を確認してください。\n",
        "# Exercise 15: Confirm statistics for female students.\n"
      ]
    },
    {
      "cell_type": "code",
      "execution_count": null,
      "id": "948764da-3fc5-433c-a932-92341fc32fc9",
      "metadata": {
        "id": "948764da-3fc5-433c-a932-92341fc32fc9"
      },
      "outputs": [],
      "source": [
        "# 統計量の確認 （課題） 3 (Confirming the statistics [practice] 3)\n",
        "# 練習 12 男性、女性のそれぞれの学生を標本として抽出した場合の身長の平均値の違いについて、気づいたことを次の行の'#'のあとに記述してください。\n",
        "# Exercise 16: Describe any observations you have regarding the difference in average height between male and female students when each is sampled as a subset.\n",
        "#"
      ]
    },
    {
      "cell_type": "code",
      "execution_count": null,
      "id": "06b78def-f28b-4d61-89a4-98a39e7779e1",
      "metadata": {
        "id": "06b78def-f28b-4d61-89a4-98a39e7779e1"
      },
      "outputs": [],
      "source": [
        "# カテゴリー別の集計 (課題) 1 (Aggregation by category [practice] 1)\n",
        "# 練習 13 男性のデータから普通科、理数科、国際科の人数を集計して、出力してください。\n",
        "# Exercise 17: Aggregate the number of students from the General ('普通'), Science and Mathematics ('理数'), and International ('国際') courses from the male data.\n",
        "\n",
        "print(f'普通科の数: {...} 人')\n",
        "print(f'理数科の数: {...} 人')\n",
        "print(f'国際科の数: {...} 人')"
      ]
    },
    {
      "cell_type": "code",
      "execution_count": null,
      "id": "57f4feb8-2888-4477-9e34-fb51da38a511",
      "metadata": {
        "id": "57f4feb8-2888-4477-9e34-fb51da38a511"
      },
      "outputs": [],
      "source": [
        "# カテゴリー別の集計 (課題) 2 (Aggregation by category [practice] 2)\n",
        "# 練習 14 女性のデータから普通科、理数科、国際科の人数を集計して、出力してください。\n",
        "# Exercise 18: Aggregate the number of students from the General ('普通'), Science and Mathematics ('理数'), and International ('国際') courses from the female data.\n",
        "\n",
        "print(f'普通科の数: {...} 人')\n",
        "print(f'理数科の数: {...} 人')\n",
        "print(f'国際科の数: {...} 人')"
      ]
    }
  ],
  "metadata": {
    "kernelspec": {
      "display_name": "Python 3 (ipykernel)",
      "language": "python",
      "name": "python3"
    },
    "language_info": {
      "codemirror_mode": {
        "name": "ipython",
        "version": 3
      },
      "file_extension": ".py",
      "mimetype": "text/x-python",
      "name": "python",
      "nbconvert_exporter": "python",
      "pygments_lexer": "ipython3",
      "version": "3.10.14"
    },
    "colab": {
      "provenance": [],
      "include_colab_link": true
    }
  },
  "nbformat": 4,
  "nbformat_minor": 5
}